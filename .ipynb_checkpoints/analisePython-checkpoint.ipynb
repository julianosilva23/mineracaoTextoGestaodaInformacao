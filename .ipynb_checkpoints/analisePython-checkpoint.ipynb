{
 "cells": [
  {
   "cell_type": "code",
   "execution_count": 970,
   "metadata": {},
   "outputs": [],
   "source": [
    "import pandas as pd\n",
    "import numpy as np\n",
    "import nltk\n",
    "from nltk import FreqDist\n",
    "from string import punctuation\n",
    "from nltk.corpus import stopwords\n",
    "import numpy as np\n",
    "import matplotlib.pyplot as plt\n",
    "import seaborn as sns\n",
    "from nltk.corpus import wordnet\n",
    "import re"
   ]
  },
  {
   "cell_type": "code",
   "execution_count": 712,
   "metadata": {},
   "outputs": [],
   "source": [
    "%matplotlib inline  "
   ]
  },
  {
   "cell_type": "code",
   "execution_count": 713,
   "metadata": {},
   "outputs": [],
   "source": [
    "#Configuração palavras PT-BR\n",
    "stopwords = set(stopwords.words('portuguese') + list(punctuation))"
   ]
  },
  {
   "cell_type": "code",
   "execution_count": 935,
   "metadata": {},
   "outputs": [],
   "source": [
    "df = pd.read_excel('ficha1ementabibliografia.xlsx')\n",
    "ementa = df['Ementa']"
   ]
  },
  {
   "cell_type": "code",
   "execution_count": 1005,
   "metadata": {},
   "outputs": [
    {
     "data": {
      "text/plain": [
       "Index(['Código', 'Ementa', 'Bibliografia Básica'], dtype='object')"
      ]
     },
     "execution_count": 1005,
     "metadata": {},
     "output_type": "execute_result"
    }
   ],
   "source": [
    "df.columns"
   ]
  },
  {
   "cell_type": "code",
   "execution_count": 793,
   "metadata": {},
   "outputs": [],
   "source": [
    "lista = []"
   ]
  },
  {
   "cell_type": "code",
   "execution_count": 794,
   "metadata": {},
   "outputs": [
    {
     "data": {
      "text/plain": [
       "0    Estudo sobre o fenômeno objeto informação, sob...\n",
       "1    Condensação de dados e informações textuais. T...\n",
       "2     Informação e suas relações de cidadania: cult...\n",
       "3    Técnicas e instrumentos de coleta de dados em ...\n",
       "4    Apresentação e discussão dos conceitos lógicos...\n",
       "Name: Ementa, dtype: object"
      ]
     },
     "execution_count": 794,
     "metadata": {},
     "output_type": "execute_result"
    }
   ],
   "source": [
    "ementa.head()"
   ]
  },
  {
   "cell_type": "code",
   "execution_count": 804,
   "metadata": {},
   "outputs": [],
   "source": [
    "def plural(x):\n",
    "    x = x.replace('informações', 'informação')\n",
    "    x = x.replace('dados', 'dado')\n",
    "    x = x.replace('relações', 'relação')    \n",
    "    x = x.replace('lógicos', 'lógico')    \n",
    "    x = x.replace('tendências', 'tendência')    \n",
    "    x = x.replace('informacionais', 'informacional')    \n",
    "    x = x.replace('ambientes', 'ambiente')    \n",
    "    x = x.replace('fragmentados', 'fragmentado')   \n",
    "    x = x.replace('específicos', 'específico')    \n",
    "    x = x.replace('brasileiros', 'brasileiro')    \n",
    "    x = x.replace('industriais', 'industrial')    \n",
    "    return x"
   ]
  },
  {
   "cell_type": "code",
   "execution_count": 805,
   "metadata": {},
   "outputs": [],
   "source": [
    "ementa = ementa.apply(plural)"
   ]
  },
  {
   "cell_type": "code",
   "execution_count": 806,
   "metadata": {},
   "outputs": [
    {
     "data": {
      "text/html": [
       "<div>\n",
       "<style scoped>\n",
       "    .dataframe tbody tr th:only-of-type {\n",
       "        vertical-align: middle;\n",
       "    }\n",
       "\n",
       "    .dataframe tbody tr th {\n",
       "        vertical-align: top;\n",
       "    }\n",
       "\n",
       "    .dataframe thead th {\n",
       "        text-align: right;\n",
       "    }\n",
       "</style>\n",
       "<table border=\"1\" class=\"dataframe\">\n",
       "  <thead>\n",
       "    <tr style=\"text-align: right;\">\n",
       "      <th></th>\n",
       "      <th>palavra</th>\n",
       "      <th>frequencia</th>\n",
       "    </tr>\n",
       "  </thead>\n",
       "  <tbody>\n",
       "    <tr>\n",
       "      <th>0</th>\n",
       "      <td>informação</td>\n",
       "      <td>47</td>\n",
       "    </tr>\n",
       "    <tr>\n",
       "      <th>1</th>\n",
       "      <td>conhecimento</td>\n",
       "      <td>13</td>\n",
       "    </tr>\n",
       "    <tr>\n",
       "      <th>2</th>\n",
       "      <td>estudo</td>\n",
       "      <td>11</td>\n",
       "    </tr>\n",
       "    <tr>\n",
       "      <th>3</th>\n",
       "      <td>gestão</td>\n",
       "      <td>9</td>\n",
       "    </tr>\n",
       "    <tr>\n",
       "      <th>4</th>\n",
       "      <td>dado</td>\n",
       "      <td>9</td>\n",
       "    </tr>\n",
       "  </tbody>\n",
       "</table>\n",
       "</div>"
      ],
      "text/plain": [
       "        palavra  frequencia\n",
       "0    informação          47\n",
       "1  conhecimento          13\n",
       "2        estudo          11\n",
       "3        gestão           9\n",
       "4          dado           9"
      ]
     },
     "execution_count": 806,
     "metadata": {},
     "output_type": "execute_result"
    }
   ],
   "source": [
    "ementajunta = \" \".join(ementa)\n",
    "palavras = nltk.word_tokenize(ementajunta.lower())\n",
    "palavras_sem_stopwords = [palavra for palavra in palavras if palavra not in stopwords]\n",
    "palavras_sem_stopwords[:5]\n",
    "frequencia = FreqDist(palavras_sem_stopwords)\n",
    "maiorFrequencia = frequencia.most_common()[:15]\n",
    "maiorFrequencia = pd.DataFrame(maiorFrequencia, columns=['palavra', 'frequencia'])\n",
    "maiorFrequencia[:5]"
   ]
  },
  {
   "cell_type": "code",
   "execution_count": 807,
   "metadata": {},
   "outputs": [],
   "source": [
    "newdf = df[['Código', 'Ementa']]"
   ]
  },
  {
   "cell_type": "code",
   "execution_count": 808,
   "metadata": {},
   "outputs": [
    {
     "data": {
      "text/html": [
       "<div>\n",
       "<style scoped>\n",
       "    .dataframe tbody tr th:only-of-type {\n",
       "        vertical-align: middle;\n",
       "    }\n",
       "\n",
       "    .dataframe tbody tr th {\n",
       "        vertical-align: top;\n",
       "    }\n",
       "\n",
       "    .dataframe thead th {\n",
       "        text-align: right;\n",
       "    }\n",
       "</style>\n",
       "<table border=\"1\" class=\"dataframe\">\n",
       "  <thead>\n",
       "    <tr style=\"text-align: right;\">\n",
       "      <th></th>\n",
       "      <th>Código</th>\n",
       "      <th>Ementa</th>\n",
       "    </tr>\n",
       "  </thead>\n",
       "  <tbody>\n",
       "    <tr>\n",
       "      <th>0</th>\n",
       "      <td>SIN160</td>\n",
       "      <td>Estudo sobre o fenômeno objeto informação, sob...</td>\n",
       "    </tr>\n",
       "    <tr>\n",
       "      <th>1</th>\n",
       "      <td>SIN161</td>\n",
       "      <td>Condensação de dados e informações textuais. T...</td>\n",
       "    </tr>\n",
       "    <tr>\n",
       "      <th>2</th>\n",
       "      <td>SIN162</td>\n",
       "      <td>Informação e suas relações de cidadania: cult...</td>\n",
       "    </tr>\n",
       "    <tr>\n",
       "      <th>3</th>\n",
       "      <td>SIN163</td>\n",
       "      <td>Técnicas e instrumentos de coleta de dados em ...</td>\n",
       "    </tr>\n",
       "    <tr>\n",
       "      <th>4</th>\n",
       "      <td>SIN164</td>\n",
       "      <td>Apresentação e discussão dos conceitos lógicos...</td>\n",
       "    </tr>\n",
       "  </tbody>\n",
       "</table>\n",
       "</div>"
      ],
      "text/plain": [
       "   Código                                             Ementa\n",
       "0  SIN160  Estudo sobre o fenômeno objeto informação, sob...\n",
       "1  SIN161  Condensação de dados e informações textuais. T...\n",
       "2  SIN162   Informação e suas relações de cidadania: cult...\n",
       "3  SIN163  Técnicas e instrumentos de coleta de dados em ...\n",
       "4  SIN164  Apresentação e discussão dos conceitos lógicos..."
      ]
     },
     "execution_count": 808,
     "metadata": {},
     "output_type": "execute_result"
    }
   ],
   "source": [
    "newdf.head()"
   ]
  },
  {
   "cell_type": "code",
   "execution_count": 809,
   "metadata": {},
   "outputs": [],
   "source": [
    "todaFrequencia = pd.DataFrame(frequencia.most_common(), columns=['palavra', 'frequencia'])\n",
    "matriz = pd.DataFrame(columns=[todaFrequencia['palavra']])"
   ]
  },
  {
   "cell_type": "code",
   "execution_count": 810,
   "metadata": {
    "scrolled": true
   },
   "outputs": [],
   "source": [
    "for t in range(0, len(newdf)):\n",
    "    ementa = newdf.loc[t][1]\n",
    "    codigo =newdf.loc[t][0]\n",
    "    valores = []\n",
    "    for v in todaFrequencia['palavra']:\n",
    "        if(v in ementa):\n",
    "            valores.append(1)\n",
    "        else:\n",
    "            valores.append(0)\n",
    "    matriz.loc[codigo] = valores"
   ]
  },
  {
   "cell_type": "code",
   "execution_count": 811,
   "metadata": {},
   "outputs": [],
   "source": [
    "relacao = []\n",
    "for disciplina in matriz.index.values:\n",
    "    for compara in matriz.index.values:\n",
    "        dic1 = list(matriz.loc[compara][matriz.loc[compara] == True].reset_index()['palavra'])\n",
    "        dic2 = list(matriz.loc[disciplina][matriz.loc[disciplina] == True].reset_index()['palavra'])\n",
    "        c = [item for item in dic2 if item in dic1]\n",
    "        \n",
    "        relacao.append([compara, disciplina, len(c)])"
   ]
  },
  {
   "cell_type": "code",
   "execution_count": 812,
   "metadata": {},
   "outputs": [],
   "source": [
    "relacao = pd.DataFrame(relacao, columns=['Compara', 'Disciplina', 'Indice'])\n",
    "relac = relacao[relacao['Compara'] != relacao['Disciplina']]\n",
    "relac = relac[relac['Indice'] > 0 ].sort_values(by='Indice', ascending=False)"
   ]
  },
  {
   "cell_type": "code",
   "execution_count": 912,
   "metadata": {},
   "outputs": [],
   "source": [
    "antigop = 0\n",
    "antigos = 0\n",
    "\n",
    "excluir = []\n",
    "for x in relac.values:    \n",
    "    if(x[0] == antigos and x[1] == antigop):\n",
    "        excluir.append(x)        \n",
    "        excluir.append(x)\n",
    "    antigop = x[0]\n",
    "    antigos = x[1]"
   ]
  },
  {
   "cell_type": "code",
   "execution_count": 922,
   "metadata": {},
   "outputs": [],
   "source": [
    "excluir = pd.DataFrame(excluir, columns=['Compara', 'Disciplina', 'Indice'])\n",
    "excluir = excluir.drop_duplicates()"
   ]
  },
  {
   "cell_type": "code",
   "execution_count": 965,
   "metadata": {},
   "outputs": [
    {
     "data": {
      "text/html": [
       "<div>\n",
       "<style scoped>\n",
       "    .dataframe tbody tr th:only-of-type {\n",
       "        vertical-align: middle;\n",
       "    }\n",
       "\n",
       "    .dataframe tbody tr th {\n",
       "        vertical-align: top;\n",
       "    }\n",
       "\n",
       "    .dataframe thead th {\n",
       "        text-align: right;\n",
       "    }\n",
       "</style>\n",
       "<table border=\"1\" class=\"dataframe\">\n",
       "  <thead>\n",
       "    <tr style=\"text-align: right;\">\n",
       "      <th></th>\n",
       "      <th>Compara</th>\n",
       "      <th>Disciplina</th>\n",
       "      <th>Indice</th>\n",
       "      <th>Join</th>\n",
       "    </tr>\n",
       "  </thead>\n",
       "  <tbody>\n",
       "    <tr>\n",
       "      <th>304</th>\n",
       "      <td>SIN169</td>\n",
       "      <td>SIN165</td>\n",
       "      <td>12</td>\n",
       "      <td>SIN169 - SIN165</td>\n",
       "    </tr>\n",
       "    <tr>\n",
       "      <th>1446</th>\n",
       "      <td>SIN190</td>\n",
       "      <td>SIN184</td>\n",
       "      <td>10</td>\n",
       "      <td>SIN190 - SIN184</td>\n",
       "    </tr>\n",
       "    <tr>\n",
       "      <th>1614</th>\n",
       "      <td>SIN181</td>\n",
       "      <td>SIN187</td>\n",
       "      <td>9</td>\n",
       "      <td>SIN181 - SIN187</td>\n",
       "    </tr>\n",
       "    <tr>\n",
       "      <th>1673</th>\n",
       "      <td>SIN181</td>\n",
       "      <td>SIN188</td>\n",
       "      <td>8</td>\n",
       "      <td>SIN181 - SIN188</td>\n",
       "    </tr>\n",
       "    <tr>\n",
       "      <th>1679</th>\n",
       "      <td>SIN187</td>\n",
       "      <td>SIN188</td>\n",
       "      <td>8</td>\n",
       "      <td>SIN187 - SIN188</td>\n",
       "    </tr>\n",
       "  </tbody>\n",
       "</table>\n",
       "</div>"
      ],
      "text/plain": [
       "     Compara Disciplina  Indice             Join\n",
       "304   SIN169     SIN165      12  SIN169 - SIN165\n",
       "1446  SIN190     SIN184      10  SIN190 - SIN184\n",
       "1614  SIN181     SIN187       9  SIN181 - SIN187\n",
       "1673  SIN181     SIN188       8  SIN181 - SIN188\n",
       "1679  SIN187     SIN188       8  SIN187 - SIN188"
      ]
     },
     "execution_count": 965,
     "metadata": {},
     "output_type": "execute_result"
    }
   ],
   "source": [
    "relac = pd.concat([relac, excluir]).drop_duplicates(keep=False)\n",
    "relac['Join'] = relac['Compara'] + ' - ' + relac['Disciplina']\n",
    "relac.head()"
   ]
  },
  {
   "cell_type": "code",
   "execution_count": 997,
   "metadata": {},
   "outputs": [
    {
     "data": {
      "text/plain": [
       "<matplotlib.axes._subplots.AxesSubplot at 0x1d7234d6b70>"
      ]
     },
     "execution_count": 997,
     "metadata": {},
     "output_type": "execute_result"
    },
    {
     "data": {
      "image/png": "[encoded data removed]",
      "text/plain": [
       "<matplotlib.figure.Figure at 0x1d7234c4908>"
      ]
     },
     "metadata": {},
     "output_type": "display_data"
    }
   ],
   "source": [
    "sns.barplot(x=relac['Indice'].head(10), y=relac['Join'].head(10))"
   ]
  },
  {
   "cell_type": "code",
   "execution_count": 1004,
   "metadata": {},
   "outputs": [],
   "source": [
    "writer = pd.ExcelWriter('relacoes.xlsx')\n",
    "relac.to_excel(writer)\n",
    "relac.to_excel(writer,'Sheet1')\n",
    "writer.save()"
   ]
  }
 ],
 "metadata": {
  "kernelspec": {
   "display_name": "Python 3",
   "language": "python",
   "name": "python3"
  },
  "language_info": {
   "codemirror_mode": {
    "name": "ipython",
    "version": 3
   },
   "file_extension": ".py",
   "mimetype": "text/x-python",
   "name": "python",
   "nbconvert_exporter": "python",
   "pygments_lexer": "ipython3",
   "version": "3.6.3"
  }
 },
 "nbformat": 4,
 "nbformat_minor": 2
}
