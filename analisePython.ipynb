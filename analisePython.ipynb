{
 "cells": [
  {
   "cell_type": "code",
   "execution_count": 286,
   "metadata": {},
   "outputs": [],
   "source": [
    "import pandas as pd\n",
    "import numpy as np\n",
    "import nltk\n",
    "from nltk import FreqDist\n",
    "from string import punctuation\n",
    "from nltk.corpus import stopwords\n",
    "import numpy as np\n",
    "import matplotlib.pyplot as plt\n",
    "import seaborn as sns\n",
    "from nltk.corpus import wordnet"
   ]
  },
  {
   "cell_type": "code",
   "execution_count": 287,
   "metadata": {},
   "outputs": [],
   "source": [
    "#Configuração palavras PT-BR\n",
    "stopwords = set(stopwords.words('portuguese') + list(punctuation))"
   ]
  },
  {
   "cell_type": "code",
   "execution_count": 288,
   "metadata": {},
   "outputs": [],
   "source": [
    "df = pd.read_excel('ficha1ementabibliografia.xlsx')\n",
    "ementa = df['Ementa']"
   ]
  },
  {
   "cell_type": "code",
   "execution_count": 289,
   "metadata": {},
   "outputs": [
    {
     "data": {
      "text/plain": [
       "Index(['Código', 'Ementa', 'Bibliografia Básica'], dtype='object')"
      ]
     },
     "execution_count": 289,
     "metadata": {},
     "output_type": "execute_result"
    }
   ],
   "source": [
    "df.columns"
   ]
  },
  {
   "cell_type": "code",
   "execution_count": 290,
   "metadata": {},
   "outputs": [],
   "source": [
    "lista = []"
   ]
  },
  {
   "cell_type": "code",
   "execution_count": 291,
   "metadata": {},
   "outputs": [
    {
     "data": {
      "text/plain": [
       "0    Estudo sobre o fenômeno objeto informação, sob...\n",
       "1    Condensação de dados e informações textuais. T...\n",
       "2     Informação e suas relações de cidadania: cult...\n",
       "3    Técnicas e instrumentos de coleta de dados em ...\n",
       "4    Apresentação e discussão dos conceitos lógicos...\n",
       "Name: Ementa, dtype: object"
      ]
     },
     "execution_count": 291,
     "metadata": {},
     "output_type": "execute_result"
    }
   ],
   "source": [
    "ementa.head()"
   ]
  },
  {
   "cell_type": "code",
   "execution_count": 292,
   "metadata": {},
   "outputs": [
    {
     "data": {
      "text/html": [
       "<div>\n",
       "<style scoped>\n",
       "    .dataframe tbody tr th:only-of-type {\n",
       "        vertical-align: middle;\n",
       "    }\n",
       "\n",
       "    .dataframe tbody tr th {\n",
       "        vertical-align: top;\n",
       "    }\n",
       "\n",
       "    .dataframe thead th {\n",
       "        text-align: right;\n",
       "    }\n",
       "</style>\n",
       "<table border=\"1\" class=\"dataframe\">\n",
       "  <thead>\n",
       "    <tr style=\"text-align: right;\">\n",
       "      <th></th>\n",
       "      <th>palavra</th>\n",
       "      <th>frequencia</th>\n",
       "    </tr>\n",
       "  </thead>\n",
       "  <tbody>\n",
       "    <tr>\n",
       "      <th>0</th>\n",
       "      <td>informação</td>\n",
       "      <td>45</td>\n",
       "    </tr>\n",
       "    <tr>\n",
       "      <th>1</th>\n",
       "      <td>conhecimento</td>\n",
       "      <td>13</td>\n",
       "    </tr>\n",
       "    <tr>\n",
       "      <th>2</th>\n",
       "      <td>estudo</td>\n",
       "      <td>11</td>\n",
       "    </tr>\n",
       "    <tr>\n",
       "      <th>3</th>\n",
       "      <td>dados</td>\n",
       "      <td>11</td>\n",
       "    </tr>\n",
       "    <tr>\n",
       "      <th>4</th>\n",
       "      <td>gestão</td>\n",
       "      <td>9</td>\n",
       "    </tr>\n",
       "  </tbody>\n",
       "</table>\n",
       "</div>"
      ],
      "text/plain": [
       "        palavra  frequencia\n",
       "0    informação          45\n",
       "1  conhecimento          13\n",
       "2        estudo          11\n",
       "3         dados          11\n",
       "4        gestão           9"
      ]
     },
     "execution_count": 292,
     "metadata": {},
     "output_type": "execute_result"
    }
   ],
   "source": [
    "ementajunta = \" \".join(ementa)\n",
    "palavras = nltk.word_tokenize(ementajunta.lower())\n",
    "palavras_sem_stopwords = [palavra for palavra in palavras if palavra not in stopwords]\n",
    "palavras_sem_stopwords[:5]\n",
    "frequencia = FreqDist(palavras_sem_stopwords)\n",
    "maiorFrequencia = frequencia.most_common()[:15]\n",
    "maiorFrequencia = pd.DataFrame(maiorFrequencia, columns=['palavra', 'frequencia'])\n",
    "maiorFrequencia[:5]"
   ]
  },
  {
   "cell_type": "code",
   "execution_count": 293,
   "metadata": {},
   "outputs": [],
   "source": [
    "newdf = df[['Código', 'Ementa']]"
   ]
  },
  {
   "cell_type": "code",
   "execution_count": 294,
   "metadata": {},
   "outputs": [
    {
     "data": {
      "text/html": [
       "<div>\n",
       "<style scoped>\n",
       "    .dataframe tbody tr th:only-of-type {\n",
       "        vertical-align: middle;\n",
       "    }\n",
       "\n",
       "    .dataframe tbody tr th {\n",
       "        vertical-align: top;\n",
       "    }\n",
       "\n",
       "    .dataframe thead th {\n",
       "        text-align: right;\n",
       "    }\n",
       "</style>\n",
       "<table border=\"1\" class=\"dataframe\">\n",
       "  <thead>\n",
       "    <tr style=\"text-align: right;\">\n",
       "      <th></th>\n",
       "      <th>Código</th>\n",
       "      <th>Ementa</th>\n",
       "    </tr>\n",
       "  </thead>\n",
       "  <tbody>\n",
       "    <tr>\n",
       "      <th>0</th>\n",
       "      <td>SIN160</td>\n",
       "      <td>Estudo sobre o fenômeno objeto informação, sob...</td>\n",
       "    </tr>\n",
       "    <tr>\n",
       "      <th>1</th>\n",
       "      <td>SIN161</td>\n",
       "      <td>Condensação de dados e informações textuais. T...</td>\n",
       "    </tr>\n",
       "    <tr>\n",
       "      <th>2</th>\n",
       "      <td>SIN162</td>\n",
       "      <td>Informação e suas relações de cidadania: cult...</td>\n",
       "    </tr>\n",
       "    <tr>\n",
       "      <th>3</th>\n",
       "      <td>SIN163</td>\n",
       "      <td>Técnicas e instrumentos de coleta de dados em ...</td>\n",
       "    </tr>\n",
       "    <tr>\n",
       "      <th>4</th>\n",
       "      <td>SIN164</td>\n",
       "      <td>Apresentação e discussão dos conceitos lógicos...</td>\n",
       "    </tr>\n",
       "  </tbody>\n",
       "</table>\n",
       "</div>"
      ],
      "text/plain": [
       "   Código                                             Ementa\n",
       "0  SIN160  Estudo sobre o fenômeno objeto informação, sob...\n",
       "1  SIN161  Condensação de dados e informações textuais. T...\n",
       "2  SIN162   Informação e suas relações de cidadania: cult...\n",
       "3  SIN163  Técnicas e instrumentos de coleta de dados em ...\n",
       "4  SIN164  Apresentação e discussão dos conceitos lógicos..."
      ]
     },
     "execution_count": 294,
     "metadata": {},
     "output_type": "execute_result"
    }
   ],
   "source": [
    "newdf.head()"
   ]
  },
  {
   "cell_type": "code",
   "execution_count": 295,
   "metadata": {},
   "outputs": [],
   "source": [
    "todaFrequencia = pd.DataFrame(frequencia.most_common(), columns=['palavra', 'frequencia'])\n",
    "matriz = pd.DataFrame(columns=[todaFrequencia['palavra']])"
   ]
  },
  {
   "cell_type": "code",
   "execution_count": 296,
   "metadata": {
    "scrolled": true
   },
   "outputs": [],
   "source": [
    "for t in range(0, len(newdf)):\n",
    "    ementa = newdf.loc[t][1]\n",
    "    codigo =newdf.loc[t][0]\n",
    "    valores = []\n",
    "    for v in todaFrequencia['palavra']:\n",
    "        if(v in ementa):\n",
    "            valores.append(1)\n",
    "        else:\n",
    "            valores.append(0)\n",
    "    matriz.loc[codigo] = valores"
   ]
  },
  {
   "cell_type": "code",
   "execution_count": 297,
   "metadata": {},
   "outputs": [
    {
     "data": {
      "text/html": [
       "<div>\n",
       "<style scoped>\n",
       "    .dataframe tbody tr th:only-of-type {\n",
       "        vertical-align: middle;\n",
       "    }\n",
       "\n",
       "    .dataframe tbody tr th {\n",
       "        vertical-align: top;\n",
       "    }\n",
       "\n",
       "    .dataframe thead tr th {\n",
       "        text-align: left;\n",
       "    }\n",
       "</style>\n",
       "<table border=\"1\" class=\"dataframe\">\n",
       "  <thead>\n",
       "    <tr>\n",
       "      <th>palavra</th>\n",
       "      <th>informação</th>\n",
       "      <th>conhecimento</th>\n",
       "      <th>estudo</th>\n",
       "      <th>dados</th>\n",
       "      <th>gestão</th>\n",
       "      <th>conceitos</th>\n",
       "      <th>teóricos</th>\n",
       "      <th>organizacional</th>\n",
       "      <th>elementos</th>\n",
       "      <th>sistemas</th>\n",
       "      <th>...</th>\n",
       "      <th>observação</th>\n",
       "      <th>navegação</th>\n",
       "      <th>infra-estrutura</th>\n",
       "      <th>tendências</th>\n",
       "      <th>comércio</th>\n",
       "      <th>eletrônico</th>\n",
       "      <th>educação</th>\n",
       "      <th>distancia</th>\n",
       "      <th>publicações</th>\n",
       "      <th>eletrônicas</th>\n",
       "    </tr>\n",
       "  </thead>\n",
       "  <tbody>\n",
       "    <tr>\n",
       "      <th>SIN160</th>\n",
       "      <td>1</td>\n",
       "      <td>0</td>\n",
       "      <td>0</td>\n",
       "      <td>0</td>\n",
       "      <td>0</td>\n",
       "      <td>0</td>\n",
       "      <td>0</td>\n",
       "      <td>0</td>\n",
       "      <td>0</td>\n",
       "      <td>0</td>\n",
       "      <td>...</td>\n",
       "      <td>0</td>\n",
       "      <td>0</td>\n",
       "      <td>0</td>\n",
       "      <td>0</td>\n",
       "      <td>0</td>\n",
       "      <td>0</td>\n",
       "      <td>0</td>\n",
       "      <td>0</td>\n",
       "      <td>0</td>\n",
       "      <td>0</td>\n",
       "    </tr>\n",
       "    <tr>\n",
       "      <th>SIN161</th>\n",
       "      <td>0</td>\n",
       "      <td>0</td>\n",
       "      <td>0</td>\n",
       "      <td>1</td>\n",
       "      <td>0</td>\n",
       "      <td>0</td>\n",
       "      <td>0</td>\n",
       "      <td>0</td>\n",
       "      <td>0</td>\n",
       "      <td>0</td>\n",
       "      <td>...</td>\n",
       "      <td>0</td>\n",
       "      <td>0</td>\n",
       "      <td>0</td>\n",
       "      <td>0</td>\n",
       "      <td>0</td>\n",
       "      <td>0</td>\n",
       "      <td>0</td>\n",
       "      <td>0</td>\n",
       "      <td>0</td>\n",
       "      <td>0</td>\n",
       "    </tr>\n",
       "    <tr>\n",
       "      <th>SIN162</th>\n",
       "      <td>1</td>\n",
       "      <td>0</td>\n",
       "      <td>0</td>\n",
       "      <td>0</td>\n",
       "      <td>0</td>\n",
       "      <td>0</td>\n",
       "      <td>0</td>\n",
       "      <td>0</td>\n",
       "      <td>0</td>\n",
       "      <td>0</td>\n",
       "      <td>...</td>\n",
       "      <td>0</td>\n",
       "      <td>0</td>\n",
       "      <td>0</td>\n",
       "      <td>0</td>\n",
       "      <td>0</td>\n",
       "      <td>0</td>\n",
       "      <td>0</td>\n",
       "      <td>0</td>\n",
       "      <td>0</td>\n",
       "      <td>0</td>\n",
       "    </tr>\n",
       "    <tr>\n",
       "      <th>SIN163</th>\n",
       "      <td>0</td>\n",
       "      <td>0</td>\n",
       "      <td>0</td>\n",
       "      <td>1</td>\n",
       "      <td>0</td>\n",
       "      <td>0</td>\n",
       "      <td>0</td>\n",
       "      <td>0</td>\n",
       "      <td>0</td>\n",
       "      <td>0</td>\n",
       "      <td>...</td>\n",
       "      <td>0</td>\n",
       "      <td>0</td>\n",
       "      <td>0</td>\n",
       "      <td>0</td>\n",
       "      <td>0</td>\n",
       "      <td>0</td>\n",
       "      <td>0</td>\n",
       "      <td>0</td>\n",
       "      <td>0</td>\n",
       "      <td>0</td>\n",
       "    </tr>\n",
       "    <tr>\n",
       "      <th>SIN164</th>\n",
       "      <td>0</td>\n",
       "      <td>0</td>\n",
       "      <td>0</td>\n",
       "      <td>0</td>\n",
       "      <td>0</td>\n",
       "      <td>1</td>\n",
       "      <td>1</td>\n",
       "      <td>0</td>\n",
       "      <td>0</td>\n",
       "      <td>0</td>\n",
       "      <td>...</td>\n",
       "      <td>0</td>\n",
       "      <td>0</td>\n",
       "      <td>0</td>\n",
       "      <td>0</td>\n",
       "      <td>0</td>\n",
       "      <td>0</td>\n",
       "      <td>0</td>\n",
       "      <td>0</td>\n",
       "      <td>0</td>\n",
       "      <td>0</td>\n",
       "    </tr>\n",
       "  </tbody>\n",
       "</table>\n",
       "<p>5 rows × 344 columns</p>\n",
       "</div>"
      ],
      "text/plain": [
       "palavra informação conhecimento estudo dados gestão conceitos teóricos  \\\n",
       "SIN160           1            0      0     0      0         0        0   \n",
       "SIN161           0            0      0     1      0         0        0   \n",
       "SIN162           1            0      0     0      0         0        0   \n",
       "SIN163           0            0      0     1      0         0        0   \n",
       "SIN164           0            0      0     0      0         1        1   \n",
       "\n",
       "palavra organizacional elementos sistemas     ...     observação navegação  \\\n",
       "SIN160               0         0        0     ...              0         0   \n",
       "SIN161               0         0        0     ...              0         0   \n",
       "SIN162               0         0        0     ...              0         0   \n",
       "SIN163               0         0        0     ...              0         0   \n",
       "SIN164               0         0        0     ...              0         0   \n",
       "\n",
       "palavra infra-estrutura tendências comércio eletrônico educação distancia  \\\n",
       "SIN160                0          0        0          0        0         0   \n",
       "SIN161                0          0        0          0        0         0   \n",
       "SIN162                0          0        0          0        0         0   \n",
       "SIN163                0          0        0          0        0         0   \n",
       "SIN164                0          0        0          0        0         0   \n",
       "\n",
       "palavra publicações eletrônicas  \n",
       "SIN160            0           0  \n",
       "SIN161            0           0  \n",
       "SIN162            0           0  \n",
       "SIN163            0           0  \n",
       "SIN164            0           0  \n",
       "\n",
       "[5 rows x 344 columns]"
      ]
     },
     "execution_count": 297,
     "metadata": {},
     "output_type": "execute_result"
    }
   ],
   "source": [
    "matriz.head()"
   ]
  },
  {
   "cell_type": "code",
   "execution_count": 298,
   "metadata": {},
   "outputs": [
    {
     "data": {
      "text/plain": [
       "array(['informação', 'conhecimento', 'estudo', 'dados', 'gestão',\n",
       "       'conceitos', 'teóricos', 'organizacional', 'elementos', 'sistemas',\n",
       "       'análise', 'técnicas', 'práticos', 'processos', 'aprendizagem',\n",
       "       'organização', 'serviços', 'processo', 'ambiente', 'políticas',\n",
       "       'aspectos', 'produtos', 'sob', 'ciência', 'direitos', 'comunicação',\n",
       "       'avaliação', 'uso', 'modelagem', 'planejamento', 'desenvolvimento',\n",
       "       'modelos', 'práticas', 'projeto', 'tecnologia', 'conteúdo',\n",
       "       'questões', 'pesquisa', 'apresentação', 'discussão', 'bem',\n",
       "       'prática', 'conteúdos', 'básicos', 'social', 'organizações',\n",
       "       'contextos', 'problemas', 'aplicabilidade', 'negócios',\n",
       "       'estratégias', 'marketing', 'aplicação', 'necessidades', 'recursos',\n",
       "       'elaboração', 'banco', 'ética', 'segurança', 'princípios',\n",
       "       'visando', 'inteligência', 'sobre', 'sociedade', 'condensação',\n",
       "       'informações', 'formas', 'estruturais', 'relações', 'humanos',\n",
       "       'sustentabilidade', 'instrumentos', 'lógicos', 'resolução',\n",
       "       'matemáticos', 'complementam', 'formação', 'técnica', 'teórica',\n",
       "       'futuro', 'gestor', 'abordagens', 'voltadas', 'responsabilidade',\n",
       "       'tecnológicas', 'registro', 'fundamentos', 'redes', 'tecnológicos',\n",
       "       'documentos', 'organizacionais', 'complexidade', 'lógica', 'tipos',\n",
       "       'teoria', 'criptografia', 'métodos', 'tecnologias', 'conceituais',\n",
       "       'arquitetura', 'tendo', 'conceito', 'mídia', 'identificação',\n",
       "       'aproveitamento', 'utilizando', 'gerência', 'estratégia',\n",
       "       'estratégico', 'implantação', 'contribuições', 'interdisciplinares',\n",
       "       'aplicadas', 'dispositivos', 'área', 'propriedade', 'intelectual',\n",
       "       'decisão', 'padrões', 'diferentes', 'domínios', 'histórico',\n",
       "       'ferramentas', 'vistas', 'compreensão', 'projetos', 'crítico',\n",
       "       'relacionadas', 'tópicos', 'atividades', 'inovação', 'tecnológica',\n",
       "       'fenômeno', 'objeto', 'perspectiva', 'enquanto', 'elemento',\n",
       "       'interesse', 'textuais', 'transfiguração', 'pictórico', 'sonoro',\n",
       "       'outras', 'cidadania', 'culturais', 'étnicas', 'raciais',\n",
       "       'ambientais', 'multiculturalismo', 'profissionais', 'coleta',\n",
       "       'aplicações', 'inferência', 'abordagem', 'teoremas', 'cálculo',\n",
       "       'proposicional', 'predicados', 'física', 'cognitiva',\n",
       "       'conhecimentos', 'habilidades', 'atitudes', 'localização',\n",
       "       'independente', 'atualidades', 'captura', 'armazenamento',\n",
       "       'distribuição', 'preservação', 'internas', 'externas', 'visão',\n",
       "       'sistêmica', 'visões', 'funcional', 'estrutural', 'desenho',\n",
       "       'reformulação', 'clássicos', 'aplicados', 'medidas', 'compressão',\n",
       "       'recuperação', 'usando', 'uml', 'levantamento', 'especificação',\n",
       "       'requisitos', 'documentação', 'tradicional', 'digital',\n",
       "       'associadas', 'programação', 'computadores', 'busca', 'ciclo',\n",
       "       'vida', 'referência', 'ergonomia', 'contexto', 'disponíveis',\n",
       "       'científica', 'oportunidades', 'gerenciamento', 'necessários',\n",
       "       'negócio', 'metodologias', 'priorizem', 'criatividade', 'pró-ativa',\n",
       "       'aprimorar', 'informacional', 'insumo', 'produto', 'controle',\n",
       "       'desempenho', 'arquiteturas', 'linguística', 'metodológicas',\n",
       "       'criar', 'gerenciar', 'implantar', 'reaproveitar', 'gerenciadores',\n",
       "       'cms', 'diversos', 'legislação', 'brasileira', 'referente',\n",
       "       'autorais', 'éticos', 'jurídicos', 'aplicada', 'monitoramento',\n",
       "       'captação', 'enfatizando', 'recurso', 'gerador', 'vulnerabilidade',\n",
       "       'biometria', 'ótica', 'normas', 'nacionais', 'planos',\n",
       "       'contingência', 'continuidade', 'construção', 'baseados',\n",
       "       'semiótica', 'contetualização', 'web', 'móveis', 'desdobramentos',\n",
       "       'apoio', 'sistematização', 'papel', 'coorporativa', 'indivíduos',\n",
       "       'grupos', 'reflexo', 'cultura', 'descoberta', 'bancos', 'tarefas',\n",
       "       'mineração', 'diagnóstico', 'oferecer', 'soluções', 'e/ou',\n",
       "       'informação/comunicação', 'mensuração', 'partir', 'naturezas',\n",
       "       'distinções', 'indexação', 'metadados', 'ontologias', 'taxonomia',\n",
       "       'estruturação', 'representação', 'formalização', 'acompanhamento',\n",
       "       'governança', 'trabalho', 'conclusão', 'curso', 'enfoque',\n",
       "       'cognitivo', 'voltada', 'solução', 'tomada', 'componentes',\n",
       "       'voltados', 'base', 'project', 'management', 'institute', 'pmi',\n",
       "       'protótipos', 'dimensões', 'cognitivas', 'emocionais',\n",
       "       'situacionais', 'comunidades', 'teórico-práticos', 'mecanismos',\n",
       "       'proteção', 'criações', 'intelectuais', 'esboço', 'principais',\n",
       "       'teorias', 'semióticas', 'tratamento', 'específicos', 'consultoria',\n",
       "       'temas', 'selecionados', 'editoriais', 'estudos', 'emergentes',\n",
       "       'profissional', 'produção', 'ambientes', 'informacionais',\n",
       "       'setores', 'industriais', 'brasileiros', 'transformação', 'brutos',\n",
       "       'lou', 'fragmentados', 'incrementar', 'observação', 'navegação',\n",
       "       'infra-estrutura', 'tendências', 'comércio', 'eletrônico',\n",
       "       'educação', 'distancia', 'publicações', 'eletrônicas'], dtype=object)"
      ]
     },
     "execution_count": 298,
     "metadata": {},
     "output_type": "execute_result"
    }
   ],
   "source": [
    "todaFrequencia['palavra'].values"
   ]
  },
  {
   "cell_type": "code",
   "execution_count": 299,
   "metadata": {},
   "outputs": [],
   "source": [
    "from sklearn.cluster import KMeans"
   ]
  },
  {
   "cell_type": "code",
   "execution_count": 300,
   "metadata": {},
   "outputs": [],
   "source": [
    "kmeans = KMeans(n_clusters=3)"
   ]
  },
  {
   "cell_type": "code",
   "execution_count": 301,
   "metadata": {},
   "outputs": [
    {
     "data": {
      "text/plain": [
       "KMeans(algorithm='auto', copy_x=True, init='k-means++', max_iter=300,\n",
       "    n_clusters=3, n_init=10, n_jobs=1, precompute_distances='auto',\n",
       "    random_state=None, tol=0.0001, verbose=0)"
      ]
     },
     "execution_count": 301,
     "metadata": {},
     "output_type": "execute_result"
    }
   ],
   "source": [
    "kmeans.fit(matriz)"
   ]
  },
  {
   "cell_type": "code",
   "execution_count": 302,
   "metadata": {},
   "outputs": [
    {
     "data": {
      "text/plain": [
       "array([[ -1.11022302e-16,   1.50000000e-01,   0.00000000e+00, ...,\n",
       "          5.00000000e-02,   5.00000000e-02,   5.00000000e-02],\n",
       "       [  8.14814815e-01,   2.59259259e-01,   0.00000000e+00, ...,\n",
       "         -6.93889390e-18,  -6.93889390e-18,  -6.93889390e-18],\n",
       "       [  8.33333333e-01,   1.66666667e-01,   0.00000000e+00, ...,\n",
       "         -3.46944695e-18,  -3.46944695e-18,  -3.46944695e-18]])"
      ]
     },
     "execution_count": 302,
     "metadata": {},
     "output_type": "execute_result"
    }
   ],
   "source": [
    "kmeans.cluster_centers_"
   ]
  },
  {
   "cell_type": "code",
   "execution_count": 303,
   "metadata": {},
   "outputs": [
    {
     "data": {
      "text/plain": [
       "array([1, 0, 1, 0, 0, 1, 1, 1, 1, 1, 0, 1, 0, 1, 1, 1, 1, 1, 0, 2, 0, 2, 2,\n",
       "       0, 1, 0, 1, 2, 2, 0, 1, 2, 1, 0, 2, 0, 2, 2, 1, 0, 0, 1, 2, 1, 0, 0,\n",
       "       2, 1, 1, 0, 1, 1, 1, 0, 1, 2, 0, 1, 0])"
      ]
     },
     "execution_count": 303,
     "metadata": {},
     "output_type": "execute_result"
    }
   ],
   "source": [
    "kmeans.labels_"
   ]
  },
  {
   "cell_type": "code",
   "execution_count": 304,
   "metadata": {},
   "outputs": [],
   "source": [
    "resultado = pd.DataFrame(columns=['Código'], data=newdf['Código'])"
   ]
  },
  {
   "cell_type": "code",
   "execution_count": 305,
   "metadata": {},
   "outputs": [],
   "source": [
    "resultado['Grupo'] = kmeans.labels_"
   ]
  },
  {
   "cell_type": "code",
   "execution_count": 306,
   "metadata": {
    "scrolled": true
   },
   "outputs": [],
   "source": [
    "# writer = pd.ExcelWriter(\"test.xlsx\")\n",
    "# resultado.to_excel(writer, startrow=1, startcol=0)\n",
    "\n",
    "# worksheet = writer.sheets['Sheet1']\n",
    "# writer.save()\n"
   ]
  },
  {
   "cell_type": "code",
   "execution_count": 307,
   "metadata": {},
   "outputs": [
    {
     "data": {
      "text/html": [
       "<div>\n",
       "<style scoped>\n",
       "    .dataframe tbody tr th:only-of-type {\n",
       "        vertical-align: middle;\n",
       "    }\n",
       "\n",
       "    .dataframe tbody tr th {\n",
       "        vertical-align: top;\n",
       "    }\n",
       "\n",
       "    .dataframe thead th {\n",
       "        text-align: right;\n",
       "    }\n",
       "</style>\n",
       "<table border=\"1\" class=\"dataframe\">\n",
       "  <thead>\n",
       "    <tr style=\"text-align: right;\">\n",
       "      <th></th>\n",
       "      <th>Código</th>\n",
       "    </tr>\n",
       "    <tr>\n",
       "      <th>Grupo</th>\n",
       "      <th></th>\n",
       "    </tr>\n",
       "  </thead>\n",
       "  <tbody>\n",
       "    <tr>\n",
       "      <th>0</th>\n",
       "      <td>20</td>\n",
       "    </tr>\n",
       "    <tr>\n",
       "      <th>1</th>\n",
       "      <td>27</td>\n",
       "    </tr>\n",
       "    <tr>\n",
       "      <th>2</th>\n",
       "      <td>12</td>\n",
       "    </tr>\n",
       "  </tbody>\n",
       "</table>\n",
       "</div>"
      ],
      "text/plain": [
       "       Código\n",
       "Grupo        \n",
       "0          20\n",
       "1          27\n",
       "2          12"
      ]
     },
     "execution_count": 307,
     "metadata": {},
     "output_type": "execute_result"
    }
   ],
   "source": [
    "resultado.groupby('Grupo').count()"
   ]
  },
  {
   "cell_type": "code",
   "execution_count": 308,
   "metadata": {},
   "outputs": [],
   "source": [
    "def convertString(x):\n",
    "    if x.any():\n",
    "        print(x)"
   ]
  }
 ],
 "metadata": {
  "kernelspec": {
   "display_name": "Python 3",
   "language": "python",
   "name": "python3"
  },
  "language_info": {
   "codemirror_mode": {
    "name": "ipython",
    "version": 3
   },
   "file_extension": ".py",
   "mimetype": "text/x-python",
   "name": "python",
   "nbconvert_exporter": "python",
   "pygments_lexer": "ipython3",
   "version": "3.6.3"
  }
 },
 "nbformat": 4,
 "nbformat_minor": 2
}
